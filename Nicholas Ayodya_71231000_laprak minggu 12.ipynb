{
 "cells": [
  {
   "cell_type": "code",
   "execution_count": 2,
   "metadata": {},
   "outputs": [
    {
     "name": "stdout",
     "output_type": "stream",
     "text": [
      "Masukkan 5 nama aplikasi di kategori foto\n",
      "Masukkan 5 nama aplikasi di kategori sosmed\n",
      "Masukkan 5 nama aplikasi di kategori text\n",
      "{'foto': ['kamera', 'vsco', 'ilustrator', 'potosop', 'canva'], 'sosmed': ['kamera', 'ig', 'line', 'wa', 'sms'], 'text': ['fb', 'wa', 'ig', 'path', 'sms']}\n",
      "[{'vsco', 'canva', 'kamera', 'ilustrator', 'potosop'}, {'ig', 'kamera', 'line', 'sms', 'wa'}, {'ig', 'path', 'fb', 'sms', 'wa'}]\n",
      "set()\n",
      "{'vsco', 'canva', 'ilustrator', 'path', 'line', 'fb', 'potosop'}\n",
      "{'kamera', 'ig', 'sms', 'wa'}\n"
     ]
    }
   ],
   "source": [
    "\n",
    "n = int(input('Masukkan jumlah kategori: '))\n",
    "\n",
    "data_aplikasi = {}\n",
    "\n",
    "for i in range(n):\n",
    "    nama_kategori = input('Masukkan nama kategori:')\n",
    "    print('Masukkan 5 nama aplikasi di kategori', nama_kategori)\n",
    "    \n",
    "    aplikasi = []\n",
    "    for j in range(5):\n",
    "        nama_aplikasi = input('Nama aplikasi: ')\n",
    "        aplikasi.append(nama_aplikasi)\n",
    "    \n",
    "    data_aplikasi[nama_kategori] = aplikasi\n",
    "    \n",
    "print(data_aplikasi)\n",
    "daftar_aplikasi_list = []\n",
    "\n",
    "for aplikasi in data_aplikasi.values():\n",
    "    daftar_aplikasi_list.append(set(aplikasi))\n",
    "print(daftar_aplikasi_list)\n",
    "\n",
    "hasil = daftar_aplikasi_list[0]\n",
    "for i in range(1, len(daftar_aplikasi_list)):\n",
    "    hasil = hasil&daftar_aplikasi_list[i]\n",
    "    \n",
    "print(hasil)\n",
    "\n",
    "hasill= daftar_aplikasi_list[0]\n",
    "for i in range(1, len(daftar_aplikasi_list)):\n",
    "    hasill = hasill^daftar_aplikasi_list[i]\n",
    "    \n",
    "print(hasill)\n",
    "\n",
    "apl = list()\n",
    "dua_kategori=set()\n",
    "\n",
    "for i in data_aplikasi.values():\n",
    "    apl+=i\n",
    "for i in apl:\n",
    "    if apl.count(i)==2:\n",
    "        dua_kategori.add(i)\n",
    "\n",
    "print(dua_kategori)"
   ]
  },
  {
   "cell_type": "code",
   "execution_count": 1,
   "metadata": {},
   "outputs": [
    {
     "name": "stdout",
     "output_type": "stream",
     "text": [
      "list menjadi set\n",
      "sebelum konversi: ['apple', 'banana', 'pineapple']\n",
      "setelah konversi: {'pineapple', 'apple', 'banana'}\n",
      "set menjadi list\n",
      "sebelum konversi: {'pineapple', 'apple', 'banana'}\n",
      "setelah konversi: ['pineapple', 'apple', 'banana']\n",
      "tuple menjadi set\n",
      "sebelum konversi: ('apple', 'banana', 'pineapple')\n",
      "setelah konversi: {'pineapple', 'apple', 'banana'}\n",
      "set menjadi tuple\n",
      "sebelum konversi: {'pineapple', 'apple', 'banana'}\n",
      "setelah konversi: ('pineapple', 'apple', 'banana')\n"
     ]
    }
   ],
   "source": [
    "#list menjadi set\n",
    "listt=[\"apple\",\"banana\",\"pineapple\"]\n",
    "sett=set(listt)\n",
    "print(f\"list menjadi set\\nsebelum konversi: {listt}\\nsetelah konversi: {sett}\")\n",
    "#set menjadi list\n",
    "listtt=list(sett)\n",
    "print(f\"set menjadi list\\nsebelum konversi: {sett}\\nsetelah konversi: {listtt}\")\n",
    "#tuple menjadi set\n",
    "tuplee=(\"apple\",\"banana\",\"pineapple\")\n",
    "settt=set(tuplee)\n",
    "print(f\"tuple menjadi set\\nsebelum konversi: {tuplee}\\nsetelah konversi: {settt}\")\n",
    "#set menjadi tuple\n",
    "tupleee=tuple(settt)\n",
    "print(f\"set menjadi tuple\\nsebelum konversi: {settt}\\nsetelah konversi: {tupleee}\")"
   ]
  },
  {
   "cell_type": "code",
   "execution_count": 21,
   "metadata": {},
   "outputs": [
    {
     "name": "stdout",
     "output_type": "stream",
     "text": [
      "[{'are', 'mistaken', 'head', 'awoke,', 'in', 'make', 'me', 'how', 'night,', 'the', 'dear', 'so', 'happy', 'dreamed', 'sleeping', 'you', 'hung', 'gray', 'and', 'please', 'cried', 'other', 'i', 'when', 'my', 'lay', 'away', 'take', 'held', 'skies', 'love', 'know,', 'never', 'much', 'only', 'arms', 'was', \"you'll\", 'as', \"don't\", 'sunshine'}, {'that', 'up', 'are', 'ooh-ooh-ooh-ooh', 'melts', \"can't\", 'dare', 'dreams', 'far', 'i?', 'behind', 'above', 'bluebirds', 'in', 'a', 'somewhere', 'me', 'someday', 'find', 'chimney', 'why,', 'really', 'the', 'wish', 'top', 'fly', 'where', 'over', 'clouds', 'come', 'to', 'lullaby,', 'me,', 'you', 'ooh-ooh-ooh', 'and', 'way', 'rainbow', 'of', 'oh', 'star', 'dream', 'i', 'why', 'ooh-ooh', 'high', 'drops', 'true-ooh-ooh', 'ah-ah-ah-ah-ah-ah-ah', 'upon', \"i'll\", 'like', \"you'll\", 'once', 'oh,', 'trouble', \"that's\", 'do', 'wake', 'tops', 'ooh-ah-ah-eh-ah', 'lemon'}]\n",
      "kata yang muncul pada dua file:{'me', 'are', 'and', 'i', 'the', \"you'll\", 'in', 'you'}\n"
     ]
    }
   ],
   "source": [
    "filee=list()\n",
    "for i in range(2):\n",
    "    try:\n",
    "        nama_file=input(\"masukkan nama file: \")\n",
    "        file=open(nama_file,'r')\n",
    "        p=set()\n",
    "        for j in file:\n",
    "            x=j.lower()\n",
    "            p.update(x.split())\n",
    "        filee.append(p)\n",
    "    except: \n",
    "        print(\"error, nama file tidak ada dalam folder\")\n",
    "print(filee)\n",
    "\n",
    "final=filee[0]\n",
    "for p in range(1, len(filee)):\n",
    "    final= final & filee[p]\n",
    "print(f\"kata yang muncul pada dua file:{final}\")"
   ]
  }
 ],
 "metadata": {
  "kernelspec": {
   "display_name": "Python 3",
   "language": "python",
   "name": "python3"
  },
  "language_info": {
   "codemirror_mode": {
    "name": "ipython",
    "version": 3
   },
   "file_extension": ".py",
   "mimetype": "text/x-python",
   "name": "python",
   "nbconvert_exporter": "python",
   "pygments_lexer": "ipython3",
   "version": "3.12.2"
  }
 },
 "nbformat": 4,
 "nbformat_minor": 2
}
